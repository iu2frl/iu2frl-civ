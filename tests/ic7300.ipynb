{
 "cells": [
  {
   "cell_type": "markdown",
   "metadata": {},
   "source": [
    "# IC-7300 Jupyter Notebook"
   ]
  },
  {
   "cell_type": "markdown",
   "metadata": {},
   "source": [
    "This Jupyter Notebook was originally intended to test new features, it should not be used as general code. Please see the `ic7300.py` file for the actual code."
   ]
  },
  {
   "cell_type": "markdown",
   "metadata": {},
   "source": [
    "## Load system libraries"
   ]
  },
  {
   "cell_type": "code",
   "execution_count": 12,
   "metadata": {},
   "outputs": [],
   "source": [
    "import os\n",
    "import sys\n",
    "import time\n",
    "from pathlib import Path"
   ]
  },
  {
   "cell_type": "markdown",
   "metadata": {},
   "source": [
    "## Load iu2frl-civ from local folder"
   ]
  },
  {
   "cell_type": "code",
   "execution_count": 13,
   "metadata": {},
   "outputs": [
    {
     "name": "stderr",
     "output_type": "stream",
     "text": [
      "WARNING: Skipping iu2frl-civ as it is not installed.\n"
     ]
    }
   ],
   "source": [
    "!pip uninstall iu2frl-civ"
   ]
  },
  {
   "cell_type": "code",
   "execution_count": 14,
   "metadata": {},
   "outputs": [
    {
     "name": "stdout",
     "output_type": "stream",
     "text": [
      "Current path: g:\\Documenti\\GitHub\\iu2frl-civ\\tests\n",
      "Library path: g:\\Documenti\\GitHub\\iu2frl-civ\n",
      "Devices path: g:\\Documenti\\GitHub\\iu2frl-civ\\devices\n",
      "Using iu2frl-civ from local library\n"
     ]
    }
   ],
   "source": [
    "current_path = Path(os.path.abspath(\"\"))\n",
    "print(f\"Current path: {current_path}\")\n",
    "library_path = current_path.parent\n",
    "print(f\"Library path: {library_path}\")\n",
    "sys.path.append(str(library_path))\n",
    "devices_path = os.path.join(library_path, \"devices\")\n",
    "print(f\"Devices path: {devices_path}\")\n",
    "sys.path.append(str(devices_path))\n",
    "from src.iu2frl_civ.device_factory import DeviceFactory\n",
    "from src.iu2frl_civ.exceptions import CivTimeoutException\n",
    "from src.iu2frl_civ.enums import DeviceType, OperatingMode, SelectedFilter, VFOOperation, ScanMode\n",
    "print(\"Using iu2frl-civ from local library\")"
   ]
  },
  {
   "cell_type": "markdown",
   "metadata": {},
   "source": [
    "## Device initialization"
   ]
  },
  {
   "cell_type": "code",
   "execution_count": 15,
   "metadata": {},
   "outputs": [
    {
     "name": "stderr",
     "output_type": "stream",
     "text": [
      "DEBUG:iu2frl-civ:Module 'iu2frl_civ.devices' not found.\n",
      "DEBUG:iu2frl-civ:Cannot find the devices folder in g:\\Documenti\\GitHub\\iu2frl-civ\\tests\\src\\iu2frl_civ\\devices (are you using a Jupyter Notebook?), trying with a different approach\n"
     ]
    },
    {
     "ename": "SerialException",
     "evalue": "could not open port 'COM10': PermissionError(13, 'Access is denied.', None, 5)",
     "output_type": "error",
     "traceback": [
      "\u001b[1;31m---------------------------------------------------------------------------\u001b[0m",
      "\u001b[1;31mSerialException\u001b[0m                           Traceback (most recent call last)",
      "Cell \u001b[1;32mIn[15], line 1\u001b[0m\n\u001b[1;32m----> 1\u001b[0m radio \u001b[38;5;241m=\u001b[39m \u001b[43mDeviceFactory\u001b[49m\u001b[38;5;241;43m.\u001b[39;49m\u001b[43mget_repository\u001b[49m\u001b[43m(\u001b[49m\u001b[43mradio_address\u001b[49m\u001b[38;5;241;43m=\u001b[39;49m\u001b[38;5;124;43m\"\u001b[39;49m\u001b[38;5;124;43m0x94\u001b[39;49m\u001b[38;5;124;43m\"\u001b[39;49m\u001b[43m,\u001b[49m\u001b[43m \u001b[49m\u001b[43mdevice_type\u001b[49m\u001b[38;5;241;43m=\u001b[39;49m\u001b[43mDeviceType\u001b[49m\u001b[38;5;241;43m.\u001b[39;49m\u001b[43mIC_7300\u001b[49m\u001b[43m,\u001b[49m\u001b[43m \u001b[49m\u001b[43mbaudrate\u001b[49m\u001b[38;5;241;43m=\u001b[39;49m\u001b[38;5;241;43m19200\u001b[39;49m\u001b[43m,\u001b[49m\u001b[43m \u001b[49m\u001b[43mport\u001b[49m\u001b[38;5;241;43m=\u001b[39;49m\u001b[38;5;124;43m\"\u001b[39;49m\u001b[38;5;124;43mCOM10\u001b[39;49m\u001b[38;5;124;43m\"\u001b[39;49m\u001b[43m,\u001b[49m\u001b[43m \u001b[49m\u001b[43mdebug\u001b[49m\u001b[38;5;241;43m=\u001b[39;49m\u001b[38;5;28;43;01mTrue\u001b[39;49;00m\u001b[43m,\u001b[49m\u001b[43m \u001b[49m\u001b[43mfake\u001b[49m\u001b[38;5;241;43m=\u001b[39;49m\u001b[38;5;28;43;01mFalse\u001b[39;49;00m\u001b[43m)\u001b[49m\n\u001b[0;32m      2\u001b[0m \u001b[38;5;28mprint\u001b[39m(\u001b[38;5;124mf\u001b[39m\u001b[38;5;124m\"\u001b[39m\u001b[38;5;124m- Connected to the transceiver at \u001b[39m\u001b[38;5;132;01m{\u001b[39;00mradio\u001b[38;5;241m.\u001b[39m_ser\u001b[38;5;241m.\u001b[39mport\u001b[38;5;132;01m}\u001b[39;00m\u001b[38;5;124m with baudrate \u001b[39m\u001b[38;5;132;01m{\u001b[39;00mradio\u001b[38;5;241m.\u001b[39m_ser\u001b[38;5;241m.\u001b[39mbaudrate\u001b[38;5;132;01m}\u001b[39;00m\u001b[38;5;124mbps\u001b[39m\u001b[38;5;124m\"\u001b[39m)\n",
      "File \u001b[1;32mg:\\Documenti\\GitHub\\iu2frl-civ\\src\\iu2frl_civ\\device_factory.py:186\u001b[0m, in \u001b[0;36mDeviceFactory.get_repository\u001b[1;34m(radio_address, device_type, port, baudrate, debug, controller_address, timeout, attempts, fake, *args, **kwargs)\u001b[0m\n\u001b[0;32m    183\u001b[0m \u001b[38;5;28;01mif\u001b[39;00m device_type \u001b[38;5;129;01mnot\u001b[39;00m \u001b[38;5;129;01min\u001b[39;00m DeviceFactory\u001b[38;5;241m.\u001b[39m_device_mapping:\n\u001b[0;32m    184\u001b[0m     \u001b[38;5;28;01mraise\u001b[39;00m \u001b[38;5;167;01mValueError\u001b[39;00m(\u001b[38;5;124mf\u001b[39m\u001b[38;5;124m\"\u001b[39m\u001b[38;5;124mUnsupported device type: \u001b[39m\u001b[38;5;132;01m{\u001b[39;00mdevice_type\u001b[38;5;132;01m}\u001b[39;00m\u001b[38;5;124m\"\u001b[39m)\n\u001b[1;32m--> 186\u001b[0m \u001b[38;5;28;01mreturn\u001b[39;00m \u001b[43mDeviceFactory\u001b[49m\u001b[38;5;241;43m.\u001b[39;49m\u001b[43m_device_mapping\u001b[49m\u001b[38;5;241;43m.\u001b[39;49m\u001b[43mget\u001b[49m\u001b[43m(\u001b[49m\u001b[43mdevice_type\u001b[49m\u001b[43m,\u001b[49m\u001b[43m \u001b[49m\u001b[43mDeviceBase\u001b[49m\u001b[43m)\u001b[49m\u001b[43m(\u001b[49m\n\u001b[0;32m    187\u001b[0m \u001b[43m    \u001b[49m\u001b[43mradio_address\u001b[49m\u001b[38;5;241;43m=\u001b[39;49m\u001b[43mradio_address\u001b[49m\u001b[43m,\u001b[49m\n\u001b[0;32m    188\u001b[0m \u001b[43m    \u001b[49m\u001b[43mport\u001b[49m\u001b[38;5;241;43m=\u001b[39;49m\u001b[43mport\u001b[49m\u001b[43m,\u001b[49m\n\u001b[0;32m    189\u001b[0m \u001b[43m    \u001b[49m\u001b[43mbaudrate\u001b[49m\u001b[38;5;241;43m=\u001b[39;49m\u001b[43mbaudrate\u001b[49m\u001b[43m,\u001b[49m\n\u001b[0;32m    190\u001b[0m \u001b[43m    \u001b[49m\u001b[43mdebug\u001b[49m\u001b[38;5;241;43m=\u001b[39;49m\u001b[43mdebug\u001b[49m\u001b[43m,\u001b[49m\n\u001b[0;32m    191\u001b[0m \u001b[43m    \u001b[49m\u001b[43mcontroller_address\u001b[49m\u001b[38;5;241;43m=\u001b[39;49m\u001b[43mcontroller_address\u001b[49m\u001b[43m,\u001b[49m\n\u001b[0;32m    192\u001b[0m \u001b[43m    \u001b[49m\u001b[43mtimeout\u001b[49m\u001b[38;5;241;43m=\u001b[39;49m\u001b[43mtimeout\u001b[49m\u001b[43m,\u001b[49m\n\u001b[0;32m    193\u001b[0m \u001b[43m    \u001b[49m\u001b[43mattempts\u001b[49m\u001b[38;5;241;43m=\u001b[39;49m\u001b[43mattempts\u001b[49m\u001b[43m,\u001b[49m\n\u001b[0;32m    194\u001b[0m \u001b[43m    \u001b[49m\u001b[43mfake\u001b[49m\u001b[38;5;241;43m=\u001b[39;49m\u001b[43mfake\u001b[49m\u001b[43m,\u001b[49m\n\u001b[0;32m    195\u001b[0m \u001b[43m    \u001b[49m\u001b[38;5;241;43m*\u001b[39;49m\u001b[43margs\u001b[49m\u001b[43m,\u001b[49m\n\u001b[0;32m    196\u001b[0m \u001b[43m    \u001b[49m\u001b[38;5;241;43m*\u001b[39;49m\u001b[38;5;241;43m*\u001b[39;49m\u001b[43mkwargs\u001b[49m\u001b[43m,\u001b[49m\n\u001b[0;32m    197\u001b[0m \u001b[43m\u001b[49m\u001b[43m)\u001b[49m\n",
      "File \u001b[1;32mg:\\Documenti\\GitHub\\iu2frl-civ\\src\\iu2frl_civ\\devices\\ic7300.py:22\u001b[0m, in \u001b[0;36mIC7300.__init__\u001b[1;34m(self, *args, **kwargs)\u001b[0m\n\u001b[0;32m     21\u001b[0m \u001b[38;5;28;01mdef\u001b[39;00m\u001b[38;5;250m \u001b[39m\u001b[38;5;21m__init__\u001b[39m(\u001b[38;5;28mself\u001b[39m, \u001b[38;5;241m*\u001b[39margs, \u001b[38;5;241m*\u001b[39m\u001b[38;5;241m*\u001b[39mkwargs) \u001b[38;5;241m-\u001b[39m\u001b[38;5;241m>\u001b[39m \u001b[38;5;28;01mNone\u001b[39;00m:\n\u001b[1;32m---> 22\u001b[0m     \u001b[38;5;28;43msuper\u001b[39;49m\u001b[43m(\u001b[49m\u001b[43m)\u001b[49m\u001b[38;5;241;43m.\u001b[39;49m\u001b[38;5;21;43m__init__\u001b[39;49m\u001b[43m(\u001b[49m\u001b[38;5;241;43m*\u001b[39;49m\u001b[43margs\u001b[49m\u001b[43m,\u001b[49m\u001b[43m \u001b[49m\u001b[38;5;241;43m*\u001b[39;49m\u001b[38;5;241;43m*\u001b[39;49m\u001b[43mkwargs\u001b[49m\u001b[43m)\u001b[49m\n\u001b[0;32m     24\u001b[0m     \u001b[38;5;28mself\u001b[39m\u001b[38;5;241m.\u001b[39mutils \u001b[38;5;241m=\u001b[39m Utils(\u001b[38;5;28mself\u001b[39m\u001b[38;5;241m.\u001b[39m_ser, \u001b[38;5;28mself\u001b[39m\u001b[38;5;241m.\u001b[39mtransceiver_address, \u001b[38;5;28mself\u001b[39m\u001b[38;5;241m.\u001b[39mcontroller_address, \u001b[38;5;28mself\u001b[39m\u001b[38;5;241m.\u001b[39m_read_attempts, debug\u001b[38;5;241m=\u001b[39m\u001b[38;5;28mself\u001b[39m\u001b[38;5;241m.\u001b[39mdebug, fake\u001b[38;5;241m=\u001b[39m\u001b[38;5;28mself\u001b[39m\u001b[38;5;241m.\u001b[39mfake)\n",
      "File \u001b[1;32mg:\\Documenti\\GitHub\\iu2frl-civ\\src\\iu2frl_civ\\device_base.py:43\u001b[0m, in \u001b[0;36mDeviceBase.__init__\u001b[1;34m(self, radio_address, port, baudrate, debug, controller_address, timeout, attempts, fake)\u001b[0m\n\u001b[0;32m     41\u001b[0m \u001b[38;5;66;03m# Open the serial port\u001b[39;00m\n\u001b[0;32m     42\u001b[0m \u001b[38;5;28;01mif\u001b[39;00m \u001b[38;5;129;01mnot\u001b[39;00m fake:\n\u001b[1;32m---> 43\u001b[0m     \u001b[38;5;28mself\u001b[39m\u001b[38;5;241m.\u001b[39m_ser \u001b[38;5;241m=\u001b[39m \u001b[43mserial\u001b[49m\u001b[38;5;241;43m.\u001b[39;49m\u001b[43mSerial\u001b[49m\u001b[43m(\u001b[49m\u001b[43mport\u001b[49m\u001b[43m,\u001b[49m\u001b[43m \u001b[49m\u001b[43mbaudrate\u001b[49m\u001b[43m,\u001b[49m\u001b[43m \u001b[49m\u001b[43mtimeout\u001b[49m\u001b[38;5;241;43m=\u001b[39;49m\u001b[43mtimeout\u001b[49m\u001b[43m,\u001b[49m\u001b[43m \u001b[49m\u001b[43mdsrdtr\u001b[49m\u001b[38;5;241;43m=\u001b[39;49m\u001b[38;5;28;43;01mFalse\u001b[39;49;00m\u001b[43m)\u001b[49m\n\u001b[0;32m     44\u001b[0m \u001b[38;5;28;01melse\u001b[39;00m:\n\u001b[0;32m     45\u001b[0m     \u001b[38;5;28mself\u001b[39m\u001b[38;5;241m.\u001b[39m_ser \u001b[38;5;241m=\u001b[39m FakeSerial(\u001b[38;5;28mself\u001b[39m\u001b[38;5;241m.\u001b[39mtransceiver_address, \u001b[38;5;28mself\u001b[39m\u001b[38;5;241m.\u001b[39mcontroller_address, baudrate, port)\n",
      "File \u001b[1;32mg:\\Documenti\\GitHub\\iu2frl-civ\\venv\\Lib\\site-packages\\serial\\serialwin32.py:33\u001b[0m, in \u001b[0;36mSerial.__init__\u001b[1;34m(self, *args, **kwargs)\u001b[0m\n\u001b[0;32m     31\u001b[0m \u001b[38;5;28mself\u001b[39m\u001b[38;5;241m.\u001b[39m_overlapped_read \u001b[38;5;241m=\u001b[39m \u001b[38;5;28;01mNone\u001b[39;00m\n\u001b[0;32m     32\u001b[0m \u001b[38;5;28mself\u001b[39m\u001b[38;5;241m.\u001b[39m_overlapped_write \u001b[38;5;241m=\u001b[39m \u001b[38;5;28;01mNone\u001b[39;00m\n\u001b[1;32m---> 33\u001b[0m \u001b[38;5;28;43msuper\u001b[39;49m\u001b[43m(\u001b[49m\u001b[43mSerial\u001b[49m\u001b[43m,\u001b[49m\u001b[43m \u001b[49m\u001b[38;5;28;43mself\u001b[39;49m\u001b[43m)\u001b[49m\u001b[38;5;241;43m.\u001b[39;49m\u001b[38;5;21;43m__init__\u001b[39;49m\u001b[43m(\u001b[49m\u001b[38;5;241;43m*\u001b[39;49m\u001b[43margs\u001b[49m\u001b[43m,\u001b[49m\u001b[43m \u001b[49m\u001b[38;5;241;43m*\u001b[39;49m\u001b[38;5;241;43m*\u001b[39;49m\u001b[43mkwargs\u001b[49m\u001b[43m)\u001b[49m\n",
      "File \u001b[1;32mg:\\Documenti\\GitHub\\iu2frl-civ\\venv\\Lib\\site-packages\\serial\\serialutil.py:244\u001b[0m, in \u001b[0;36mSerialBase.__init__\u001b[1;34m(self, port, baudrate, bytesize, parity, stopbits, timeout, xonxoff, rtscts, write_timeout, dsrdtr, inter_byte_timeout, exclusive, **kwargs)\u001b[0m\n\u001b[0;32m    241\u001b[0m     \u001b[38;5;28;01mraise\u001b[39;00m \u001b[38;5;167;01mValueError\u001b[39;00m(\u001b[38;5;124m'\u001b[39m\u001b[38;5;124munexpected keyword arguments: \u001b[39m\u001b[38;5;132;01m{!r}\u001b[39;00m\u001b[38;5;124m'\u001b[39m\u001b[38;5;241m.\u001b[39mformat(kwargs))\n\u001b[0;32m    243\u001b[0m \u001b[38;5;28;01mif\u001b[39;00m port \u001b[38;5;129;01mis\u001b[39;00m \u001b[38;5;129;01mnot\u001b[39;00m \u001b[38;5;28;01mNone\u001b[39;00m:\n\u001b[1;32m--> 244\u001b[0m     \u001b[38;5;28;43mself\u001b[39;49m\u001b[38;5;241;43m.\u001b[39;49m\u001b[43mopen\u001b[49m\u001b[43m(\u001b[49m\u001b[43m)\u001b[49m\n",
      "File \u001b[1;32mg:\\Documenti\\GitHub\\iu2frl-civ\\venv\\Lib\\site-packages\\serial\\serialwin32.py:64\u001b[0m, in \u001b[0;36mSerial.open\u001b[1;34m(self)\u001b[0m\n\u001b[0;32m     62\u001b[0m \u001b[38;5;28;01mif\u001b[39;00m \u001b[38;5;28mself\u001b[39m\u001b[38;5;241m.\u001b[39m_port_handle \u001b[38;5;241m==\u001b[39m win32\u001b[38;5;241m.\u001b[39mINVALID_HANDLE_VALUE:\n\u001b[0;32m     63\u001b[0m     \u001b[38;5;28mself\u001b[39m\u001b[38;5;241m.\u001b[39m_port_handle \u001b[38;5;241m=\u001b[39m \u001b[38;5;28;01mNone\u001b[39;00m    \u001b[38;5;66;03m# 'cause __del__ is called anyway\u001b[39;00m\n\u001b[1;32m---> 64\u001b[0m     \u001b[38;5;28;01mraise\u001b[39;00m SerialException(\u001b[38;5;124m\"\u001b[39m\u001b[38;5;124mcould not open port \u001b[39m\u001b[38;5;132;01m{!r}\u001b[39;00m\u001b[38;5;124m: \u001b[39m\u001b[38;5;132;01m{!r}\u001b[39;00m\u001b[38;5;124m\"\u001b[39m\u001b[38;5;241m.\u001b[39mformat(\u001b[38;5;28mself\u001b[39m\u001b[38;5;241m.\u001b[39mportstr, ctypes\u001b[38;5;241m.\u001b[39mWinError()))\n\u001b[0;32m     66\u001b[0m \u001b[38;5;28;01mtry\u001b[39;00m:\n\u001b[0;32m     67\u001b[0m     \u001b[38;5;28mself\u001b[39m\u001b[38;5;241m.\u001b[39m_overlapped_read \u001b[38;5;241m=\u001b[39m win32\u001b[38;5;241m.\u001b[39mOVERLAPPED()\n",
      "\u001b[1;31mSerialException\u001b[0m: could not open port 'COM10': PermissionError(13, 'Access is denied.', None, 5)"
     ]
    }
   ],
   "source": [
    "radio = DeviceFactory.get_repository(radio_address=\"0x94\", device_type=DeviceType.IC_7300, baudrate=19200, port=\"COM10\", debug=True, fake=False)\n",
    "print(f\"- Connected to the transceiver at {radio._ser.port} with baudrate {radio._ser.baudrate}bps\")"
   ]
  },
  {
   "cell_type": "markdown",
   "metadata": {},
   "source": [
    "## Turn on the device"
   ]
  },
  {
   "cell_type": "code",
   "execution_count": 5,
   "metadata": {},
   "outputs": [
    {
     "name": "stderr",
     "output_type": "stream",
     "text": [
      "DEBUG:iu2frl-civ:Sending power-on command with 25 wakeup preambles\n",
      "DEBUG:iu2frl-civ:Sending command: 0xFE 0xFE 0xFE 0xFE 0xFE 0xFE 0xFE 0xFE 0xFE 0xFE 0xFE 0xFE 0xFE 0xFE 0xFE 0xFE 0xFE 0xFE 0xFE 0xFE 0xFE 0xFE 0xFE 0xFE 0xFE 0xFE 0xFE 0x94 0xE0 0x18 0x01 0xFD (length: 32)\n",
      "DEBUG:iu2frl-civ:Received message: 0xFE 0xFE 0xE0 0x94 0xFB 0xFD (length: 6)\n",
      "DEBUG:iu2frl-civ:Reply status: OK (0xFB)\n",
      "DEBUG:iu2frl-civ:Sending command: 0xFE 0xFE 0x94 0xE0 0x19 0x00 0xFD (length: 7)\n",
      "DEBUG:iu2frl-civ:Received message: 0xFE 0xFE 0xE0 0x94 0x19 0x00 0x94 0xFD (length: 8)\n",
      "DEBUG:iu2frl-civ:Reply status: OK (0xFB)\n"
     ]
    },
    {
     "name": "stdout",
     "output_type": "stream",
     "text": [
      "- Turning on the transceiver\n",
      "- Waiting for the transceiver to be ready..."
     ]
    }
   ],
   "source": [
    "print(\"- Turning on the transceiver\")\n",
    "radio.power_on()\n",
    "print(\"- Waiting for the transceiver to be ready..\", end=\"\")\n",
    "transceiver_address = b\"\\x00\"\n",
    "while transceiver_address == b\"\\x00\":\n",
    "    print(\".\", end=\"\")\n",
    "    try:\n",
    "        transceiver_address = radio.read_transceiver_id()\n",
    "    except CivTimeoutException:\n",
    "        pass"
   ]
  },
  {
   "cell_type": "markdown",
   "metadata": {},
   "source": [
    "# Playground"
   ]
  },
  {
   "cell_type": "code",
   "execution_count": 6,
   "metadata": {},
   "outputs": [
    {
     "name": "stderr",
     "output_type": "stream",
     "text": [
      "DEBUG:iu2frl-civ:Sending command: 0xFE 0xFE 0x94 0xE0 0x08 0x00 0x01 0xFD (length: 8)\n",
      "DEBUG:iu2frl-civ:Received message: 0xFE 0xFE 0xE0 0x94 0xFB 0xFD (length: 6)\n",
      "DEBUG:iu2frl-civ:Reply status: OK (0xFB)\n"
     ]
    }
   ],
   "source": [
    "radio.set_memory_mode(1)"
   ]
  },
  {
   "cell_type": "code",
   "execution_count": 7,
   "metadata": {},
   "outputs": [],
   "source": [
    "#radio.set_mox(True)\n",
    "#time.sleep(5)\n",
    "#radio.set_mox(False)"
   ]
  },
  {
   "cell_type": "code",
   "execution_count": 8,
   "metadata": {},
   "outputs": [
    {
     "name": "stderr",
     "output_type": "stream",
     "text": [
      "DEBUG:iu2frl-civ:Sending command: 0xFE 0xFE 0x94 0xE0 0x1A 0x05 0x00 0x82 0x01 0xFD (length: 10)\n",
      "DEBUG:iu2frl-civ:Received message: 0xFE 0xFE 0xE0 0x94 0xFB 0xFD (length: 6)\n",
      "DEBUG:iu2frl-civ:Reply status: OK (0xFB)\n",
      "DEBUG:iu2frl-civ:Sending command: 0xFE 0xFE 0x94 0xE0 0x1A 0x05 0x00 0x82 0x00 0xFD (length: 10)\n",
      "DEBUG:iu2frl-civ:Received message: 0xFE 0xFE 0xE0 0x94 0xFB 0xFD (length: 6)\n",
      "DEBUG:iu2frl-civ:Reply status: OK (0xFB)\n"
     ]
    }
   ],
   "source": [
    "radio.set_display_image_type(True)\n",
    "time.sleep(0.5)\n",
    "radio.set_display_image_type(False)"
   ]
  },
  {
   "cell_type": "code",
   "execution_count": 9,
   "metadata": {},
   "outputs": [
    {
     "name": "stderr",
     "output_type": "stream",
     "text": [
      "DEBUG:iu2frl-civ:Sending command: 0xFE 0xFE 0x94 0xE0 0x1A 0x05 0x01 0x07 0x01 0xFD (length: 10)\n",
      "DEBUG:iu2frl-civ:Received message: 0xFE 0xFE 0xE0 0x94 0xFB 0xFD (length: 6)\n",
      "DEBUG:iu2frl-civ:Reply status: OK (0xFB)\n"
     ]
    }
   ],
   "source": [
    "radio.set_scope_waterfall_display(True)"
   ]
  },
  {
   "cell_type": "code",
   "execution_count": 10,
   "metadata": {},
   "outputs": [
    {
     "name": "stderr",
     "output_type": "stream",
     "text": [
      "DEBUG:iu2frl-civ:Sending command: 0xFE 0xFE 0x94 0xE0 0x06 0x03 0x02 0xFD (length: 8)\n",
      "DEBUG:iu2frl-civ:Received message: 0xFE 0xFE 0xE0 0x94 0xFB 0xFD (length: 6)\n",
      "DEBUG:iu2frl-civ:Reply status: OK (0xFB)\n",
      "DEBUG:iu2frl-civ:Sending command: 0xFE 0xFE 0x94 0xE0 0x1A 0x02 0x01 0x43 0x51 0x20 0x43 0x51 0x20 0x43 0x51 0x20 0x44 0x45 0x20 0x49 0x55 0x32 0x46 0x52 0x4C 0x20 0x49 0x55 0x32 0x46 0x52 0x4C 0x20 0x49 0x55 0x32 0x46 0x52 0x4C 0x20 0x4B 0xFD (length: 42)\n",
      "DEBUG:iu2frl-civ:Received message: 0xFE 0xFE 0xE0 0x94 0xFB 0xFD (length: 6)\n",
      "DEBUG:iu2frl-civ:Reply status: OK (0xFB)\n",
      "DEBUG:iu2frl-civ:Sending command: 0xFE 0xFE 0x94 0xE0 0x1A 0x02 0x01 0xFD (length: 8)\n",
      "DEBUG:iu2frl-civ:Received message: 0xFE 0xFE 0xE0 0x94 0x1A 0x02 0x01 0x43 0x51 0x20 0x43 0x51 0x20 0x43 0x51 0x20 0x44 0x45 0x20 0x49 0x55 0x32 0x46 0x52 0x4C 0x20 0x49 0x55 0x32 0x46 0x52 0x4C 0x20 0x49 0x55 0x32 0x46 0x52 0x4C 0x20 0x4B 0x20 0x20 0x20 0x20 0x20 0x20 0x20 0x20 0x20 0x20 0x20 0x20 0x20 0x20 0x20 0x20 0x20 0x20 0x20 0x20 0x20 0x20 0x20 0x20 0x20 0x20 0x20 0x20 0x20 0x20 0x20 0x20 0x20 0x20 0x20 0x20 0xFD (length: 78)\n",
      "DEBUG:iu2frl-civ:Reply status: OK (0xFB)\n"
     ]
    },
    {
     "data": {
      "text/plain": [
       "'CQ CQ CQ DE IU2FRL IU2FRL IU2FRL K'"
      ]
     },
     "execution_count": 10,
     "metadata": {},
     "output_type": "execute_result"
    }
   ],
   "source": [
    "radio.set_operating_mode(OperatingMode.CW, SelectedFilter.FIL2)\n",
    "radio.set_memory_keyer_message(1, \"CQ CQ CQ DE IU2FRL IU2FRL IU2FRL K\")\n",
    "radio.read_memory_keyer_message(1)"
   ]
  },
  {
   "cell_type": "code",
   "execution_count": 17,
   "metadata": {},
   "outputs": [
    {
     "name": "stderr",
     "output_type": "stream",
     "text": [
      "DEBUG:iu2frl-civ:Sending command: 0xFE 0xFE 0x94 0xE0 0x1A 0x05 0x00 0x94 0x20 0x25 0x02 0x04 0xFD (length: 13)\n",
      "DEBUG:iu2frl-civ:Received message: 0xFE 0xFE 0xE0 0x94 0xFB 0xFD (length: 6)\n",
      "DEBUG:iu2frl-civ:Reply status: OK (0xFB)\n",
      "DEBUG:iu2frl-civ:Sending command: 0xFE 0xFE 0x94 0xE0 0x1A 0x05 0x00 0x95 0x21 0x37 0xFD (length: 11)\n",
      "DEBUG:iu2frl-civ:Received message: 0xFE 0xFE 0xE0 0x94 0xFB 0xFD (length: 6)\n",
      "DEBUG:iu2frl-civ:Reply status: OK (0xFB)\n",
      "DEBUG:iu2frl-civ:Sending command: 0xFE 0xFE 0x94 0xE0 0x1A 0x05 0x00 0x96 0x01 0x00 0x00 0xFD (length: 12)\n",
      "DEBUG:iu2frl-civ:Received message: 0xFE 0xFE 0xE0 0x94 0xFB 0xFD (length: 6)\n",
      "DEBUG:iu2frl-civ:Reply status: OK (0xFB)\n"
     ]
    }
   ],
   "source": [
    "radio.sync_clock(False)"
   ]
  }
 ],
 "metadata": {
  "kernelspec": {
   "display_name": "venv",
   "language": "python",
   "name": "python3"
  },
  "language_info": {
   "codemirror_mode": {
    "name": "ipython",
    "version": 3
   },
   "file_extension": ".py",
   "mimetype": "text/x-python",
   "name": "python",
   "nbconvert_exporter": "python",
   "pygments_lexer": "ipython3",
   "version": "3.12.8"
  }
 },
 "nbformat": 4,
 "nbformat_minor": 2
}
