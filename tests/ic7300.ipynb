{
 "cells": [
  {
   "cell_type": "markdown",
   "metadata": {},
   "source": [
    "# IC-7300 Jupyter Notebook"
   ]
  },
  {
   "cell_type": "markdown",
   "metadata": {},
   "source": [
    "This Jupyter Notebook was originally intended to test new features, it should not be used as general code. Please see the `ic7300.py` file for the actual code."
   ]
  },
  {
   "cell_type": "markdown",
   "metadata": {},
   "source": [
    "## Load system libraries"
   ]
  },
  {
   "cell_type": "code",
   "execution_count": 1,
   "metadata": {},
   "outputs": [],
   "source": [
    "import os\n",
    "import sys\n",
    "import time\n",
    "from pathlib import Path"
   ]
  },
  {
   "cell_type": "markdown",
   "metadata": {},
   "source": [
    "## Load iu2frl-civ from local folder"
   ]
  },
  {
   "cell_type": "code",
   "execution_count": 2,
   "metadata": {},
   "outputs": [
    {
     "name": "stderr",
     "output_type": "stream",
     "text": [
      "WARNING: Skipping iu2frl-civ as it is not installed.\n"
     ]
    }
   ],
   "source": [
    "!pip uninstall iu2frl-civ"
   ]
  },
  {
   "cell_type": "code",
   "execution_count": 3,
   "metadata": {},
   "outputs": [
    {
     "name": "stdout",
     "output_type": "stream",
     "text": [
      "Current path: g:\\Documenti\\GitHub\\iu2frl-civ\\tests\n",
      "Library path: g:\\Documenti\\GitHub\\iu2frl-civ\n",
      "Devices path: g:\\Documenti\\GitHub\\iu2frl-civ\\devices\n",
      "Using iu2frl-civ from local library\n"
     ]
    }
   ],
   "source": [
    "current_path = Path(os.path.abspath(\"\"))\n",
    "print(f\"Current path: {current_path}\")\n",
    "library_path = current_path.parent\n",
    "print(f\"Library path: {library_path}\")\n",
    "sys.path.append(str(library_path))\n",
    "devices_path = os.path.join(library_path, \"devices\")\n",
    "print(f\"Devices path: {devices_path}\")\n",
    "sys.path.append(str(devices_path))\n",
    "from src.iu2frl_civ.device_factory import DeviceFactory\n",
    "from src.iu2frl_civ.exceptions import CivTimeoutException\n",
    "from src.iu2frl_civ.enums import DeviceType, OperatingMode, SelectedFilter, VFOOperation, ScanMode, ToneType\n",
    "print(\"Using iu2frl-civ from local library\")"
   ]
  },
  {
   "cell_type": "markdown",
   "metadata": {},
   "source": [
    "## Device initialization"
   ]
  },
  {
   "cell_type": "code",
   "execution_count": 4,
   "metadata": {},
   "outputs": [
    {
     "name": "stdout",
     "output_type": "stream",
     "text": [
      "- Connected to the transceiver at COM10 with baudrate 19200bps\n"
     ]
    }
   ],
   "source": [
    "radio = DeviceFactory.get_repository(radio_address=\"0x94\", device_type=DeviceType.IC_7300, baudrate=19200, port=\"COM10\", debug=True, fake=False)\n",
    "print(f\"- Connected to the transceiver at {radio._ser.port} with baudrate {radio._ser.baudrate}bps\")"
   ]
  },
  {
   "cell_type": "markdown",
   "metadata": {},
   "source": [
    "## Turn on the device"
   ]
  },
  {
   "cell_type": "code",
   "execution_count": 5,
   "metadata": {},
   "outputs": [
    {
     "name": "stderr",
     "output_type": "stream",
     "text": [
      "DEBUG:iu2frl-civ:Sending power-on command with 25 wakeup preambles\n",
      "DEBUG:iu2frl-civ:Sending command: 0xFE 0xFE 0xFE 0xFE 0xFE 0xFE 0xFE 0xFE 0xFE 0xFE 0xFE 0xFE 0xFE 0xFE 0xFE 0xFE 0xFE 0xFE 0xFE 0xFE 0xFE 0xFE 0xFE 0xFE 0xFE 0xFE 0xFE 0x94 0xE0 0x18 0x01 0xFD (length: 32)\n",
      "DEBUG:iu2frl-civ:Received message: 0xFE 0xFE 0xE0 0x94 0xFB 0xFD (length: 6)\n",
      "DEBUG:iu2frl-civ:Reply status: OK (0xFB)\n",
      "DEBUG:iu2frl-civ:Sending command: 0xFE 0xFE 0x94 0xE0 0x19 0x00 0xFD (length: 7)\n",
      "DEBUG:iu2frl-civ:Received message: 0xFE 0xFE 0xE0 0x94 0x19 0x00 0x94 0xFD (length: 8)\n",
      "DEBUG:iu2frl-civ:Reply status: OK (0xFB)\n"
     ]
    },
    {
     "name": "stdout",
     "output_type": "stream",
     "text": [
      "- Turning on the transceiver\n",
      "- Waiting for the transceiver to be ready..."
     ]
    }
   ],
   "source": [
    "print(\"- Turning on the transceiver\")\n",
    "radio.power_on()\n",
    "print(\"- Waiting for the transceiver to be ready..\", end=\"\")\n",
    "transceiver_address = b\"\\x00\"\n",
    "while transceiver_address == b\"\\x00\":\n",
    "    print(\".\", end=\"\")\n",
    "    try:\n",
    "        transceiver_address = radio.read_transceiver_id()\n",
    "    except CivTimeoutException:\n",
    "        pass"
   ]
  },
  {
   "cell_type": "markdown",
   "metadata": {},
   "source": [
    "# Playground"
   ]
  },
  {
   "cell_type": "code",
   "execution_count": 6,
   "metadata": {},
   "outputs": [
    {
     "name": "stderr",
     "output_type": "stream",
     "text": [
      "DEBUG:iu2frl-civ:Sending command: 0xFE 0xFE 0x94 0xE0 0x08 0x00 0x01 0xFD (length: 8)\n",
      "DEBUG:iu2frl-civ:Received message: 0xFE 0xFE 0xE0 0x94 0xFB 0xFD (length: 6)\n",
      "DEBUG:iu2frl-civ:Reply status: OK (0xFB)\n"
     ]
    }
   ],
   "source": [
    "radio.set_memory_mode(1)"
   ]
  },
  {
   "cell_type": "code",
   "execution_count": 7,
   "metadata": {},
   "outputs": [],
   "source": [
    "#radio.set_mox(True)\n",
    "#time.sleep(5)\n",
    "#radio.set_mox(False)"
   ]
  },
  {
   "cell_type": "code",
   "execution_count": 8,
   "metadata": {},
   "outputs": [
    {
     "name": "stderr",
     "output_type": "stream",
     "text": [
      "DEBUG:iu2frl-civ:Sending command: 0xFE 0xFE 0x94 0xE0 0x1A 0x05 0x00 0x82 0x01 0xFD (length: 10)\n",
      "DEBUG:iu2frl-civ:Received message: 0xFE 0xFE 0xE0 0x94 0xFB 0xFD (length: 6)\n",
      "DEBUG:iu2frl-civ:Reply status: OK (0xFB)\n",
      "DEBUG:iu2frl-civ:Sending command: 0xFE 0xFE 0x94 0xE0 0x1A 0x05 0x00 0x82 0x00 0xFD (length: 10)\n",
      "DEBUG:iu2frl-civ:Received message: 0xFE 0xFE 0xE0 0x94 0xFB 0xFD (length: 6)\n",
      "DEBUG:iu2frl-civ:Reply status: OK (0xFB)\n"
     ]
    }
   ],
   "source": [
    "radio.set_display_image_type(True)\n",
    "time.sleep(0.5)\n",
    "radio.set_display_image_type(False)"
   ]
  },
  {
   "cell_type": "code",
   "execution_count": 9,
   "metadata": {},
   "outputs": [
    {
     "name": "stderr",
     "output_type": "stream",
     "text": [
      "DEBUG:iu2frl-civ:Sending command: 0xFE 0xFE 0x94 0xE0 0x1A 0x05 0x01 0x07 0x01 0xFD (length: 10)\n",
      "DEBUG:iu2frl-civ:Received message: 0xFE 0xFE 0xE0 0x94 0xFB 0xFD (length: 6)\n",
      "DEBUG:iu2frl-civ:Reply status: OK (0xFB)\n"
     ]
    }
   ],
   "source": [
    "radio.set_scope_waterfall_display(True)"
   ]
  },
  {
   "cell_type": "code",
   "execution_count": 10,
   "metadata": {},
   "outputs": [
    {
     "name": "stderr",
     "output_type": "stream",
     "text": [
      "DEBUG:iu2frl-civ:Sending command: 0xFE 0xFE 0x94 0xE0 0x06 0x03 0x02 0xFD (length: 8)\n",
      "DEBUG:iu2frl-civ:Received message: 0xFE 0xFE 0xE0 0x94 0xFB 0xFD (length: 6)\n",
      "DEBUG:iu2frl-civ:Reply status: OK (0xFB)\n",
      "DEBUG:iu2frl-civ:Sending command: 0xFE 0xFE 0x94 0xE0 0x1A 0x02 0x01 0x43 0x51 0x20 0x43 0x51 0x20 0x43 0x51 0x20 0x44 0x45 0x20 0x49 0x55 0x32 0x46 0x52 0x4C 0x20 0x49 0x55 0x32 0x46 0x52 0x4C 0x20 0x49 0x55 0x32 0x46 0x52 0x4C 0x20 0x4B 0xFD (length: 42)\n",
      "DEBUG:iu2frl-civ:Received message: 0xFE 0xFE 0xE0 0x94 0xFB 0xFD (length: 6)\n",
      "DEBUG:iu2frl-civ:Reply status: OK (0xFB)\n",
      "DEBUG:iu2frl-civ:Sending command: 0xFE 0xFE 0x94 0xE0 0x1A 0x02 0x01 0xFD (length: 8)\n",
      "DEBUG:iu2frl-civ:Received message: 0xFE 0xFE 0xE0 0x94 0x1A 0x02 0x01 0x43 0x51 0x20 0x43 0x51 0x20 0x43 0x51 0x20 0x44 0x45 0x20 0x49 0x55 0x32 0x46 0x52 0x4C 0x20 0x49 0x55 0x32 0x46 0x52 0x4C 0x20 0x49 0x55 0x32 0x46 0x52 0x4C 0x20 0x4B 0x20 0x20 0x20 0x20 0x20 0x20 0x20 0x20 0x20 0x20 0x20 0x20 0x20 0x20 0x20 0x20 0x20 0x20 0x20 0x20 0x20 0x20 0x20 0x20 0x20 0x20 0x20 0x20 0x20 0x20 0x20 0x20 0x20 0x20 0x20 0x20 0xFD (length: 78)\n",
      "DEBUG:iu2frl-civ:Reply status: OK (0xFB)\n"
     ]
    },
    {
     "data": {
      "text/plain": [
       "'CQ CQ CQ DE IU2FRL IU2FRL IU2FRL K'"
      ]
     },
     "execution_count": 10,
     "metadata": {},
     "output_type": "execute_result"
    }
   ],
   "source": [
    "radio.set_operating_mode(OperatingMode.CW, SelectedFilter.FIL2)\n",
    "radio.set_memory_keyer_message(1, \"CQ CQ CQ DE IU2FRL IU2FRL IU2FRL K\")\n",
    "radio.read_memory_keyer_message(1)"
   ]
  },
  {
   "cell_type": "code",
   "execution_count": 11,
   "metadata": {},
   "outputs": [
    {
     "name": "stderr",
     "output_type": "stream",
     "text": [
      "DEBUG:iu2frl-civ:Sending command: 0xFE 0xFE 0x94 0xE0 0x1A 0x05 0x00 0x94 0x20 0x25 0x02 0x04 0xFD (length: 13)\n",
      "DEBUG:iu2frl-civ:Received message: 0xFE 0xFE 0xE0 0x94 0xFB 0xFD (length: 6)\n",
      "DEBUG:iu2frl-civ:Reply status: OK (0xFB)\n",
      "DEBUG:iu2frl-civ:Sending command: 0xFE 0xFE 0x94 0xE0 0x1A 0x05 0x00 0x95 0x22 0x59 0xFD (length: 11)\n",
      "DEBUG:iu2frl-civ:Received message: 0xFE 0xFE 0xE0 0x94 0xFB 0xFD (length: 6)\n",
      "DEBUG:iu2frl-civ:Reply status: OK (0xFB)\n",
      "DEBUG:iu2frl-civ:Sending command: 0xFE 0xFE 0x94 0xE0 0x1A 0x05 0x00 0x96 0x01 0x00 0x00 0xFD (length: 12)\n",
      "DEBUG:iu2frl-civ:Received message: 0xFE 0xFE 0xE0 0x94 0xFB 0xFD (length: 6)\n",
      "DEBUG:iu2frl-civ:Reply status: OK (0xFB)\n"
     ]
    }
   ],
   "source": [
    "radio.sync_clock(False)"
   ]
  },
  {
   "cell_type": "code",
   "execution_count": 12,
   "metadata": {},
   "outputs": [
    {
     "name": "stderr",
     "output_type": "stream",
     "text": [
      "DEBUG:iu2frl-civ:Sending command: 0xFE 0xFE 0x94 0xE0 0x1A 0x00 0x00 0x01 0xFF 0xFD (length: 10)\n",
      "DEBUG:iu2frl-civ:Received message: 0xFE 0xFE 0xE0 0x94 0xFB 0xFD (length: 6)\n",
      "DEBUG:iu2frl-civ:Reply status: OK (0xFB)\n",
      "DEBUG:iu2frl-civ:Sending command: 0xFE 0xFE 0x94 0xE0 0x1A 0x00 0x00 0x01 0x00 0x00 0x50 0x52 0x14 0x00 0x05 0x01 0x02 0x00 0x08 0x85 0x00 0x08 0x85 0x41 0x41 0x41 0x41 0x41 0x41 0x41 0x41 0x41 0x41 0xFD (length: 34)\n",
      "DEBUG:iu2frl-civ:Received message: 0xFE 0xFE 0xE0 0x94 0xFA 0xFD (length: 6)\n",
      "DEBUG:iu2frl-civ:Reply status: NG (0xFA)\n"
     ]
    },
    {
     "ename": "CivCommandException",
     "evalue": "Reply status: NG (0xFA)",
     "output_type": "error",
     "traceback": [
      "\u001b[1;31m---------------------------------------------------------------------------\u001b[0m",
      "\u001b[1;31mCivCommandException\u001b[0m                       Traceback (most recent call last)",
      "Cell \u001b[1;32mIn[12], line 15\u001b[0m\n\u001b[0;32m     12\u001b[0m tone_squelch \u001b[38;5;241m=\u001b[39m \u001b[38;5;241m88.5\u001b[39m\n\u001b[0;32m     13\u001b[0m mem_setting \u001b[38;5;241m=\u001b[39m \u001b[38;5;241m0\u001b[39m \u001b[38;5;66;03m# use for ☆1\u001b[39;00m\n\u001b[1;32m---> 15\u001b[0m \u001b[43mradio\u001b[49m\u001b[38;5;241;43m.\u001b[39;49m\u001b[43mset_memory\u001b[49m\u001b[43m(\u001b[49m\n\u001b[0;32m     16\u001b[0m \u001b[43m    \u001b[49m\u001b[43mmem_channel\u001b[49m\u001b[43m,\u001b[49m\n\u001b[0;32m     17\u001b[0m \u001b[43m    \u001b[49m\u001b[43mfreq\u001b[49m\u001b[43m,\u001b[49m\n\u001b[0;32m     18\u001b[0m \u001b[43m    \u001b[49m\u001b[43mmode\u001b[49m\u001b[43m,\u001b[49m\n\u001b[0;32m     19\u001b[0m \u001b[43m    \u001b[49m\u001b[43mfilt\u001b[49m\u001b[43m,\u001b[49m\n\u001b[0;32m     20\u001b[0m \u001b[43m    \u001b[49m\u001b[43mname\u001b[49m\u001b[43m,\u001b[49m\n\u001b[0;32m     21\u001b[0m \u001b[43m    \u001b[49m\u001b[43mdata_mode\u001b[49m\u001b[43m,\u001b[49m\n\u001b[0;32m     22\u001b[0m \u001b[43m    \u001b[49m\u001b[43mtone_type\u001b[49m\u001b[43m,\u001b[49m\n\u001b[0;32m     23\u001b[0m \u001b[43m    \u001b[49m\u001b[43mrepeater_tone\u001b[49m\u001b[43m,\u001b[49m\n\u001b[0;32m     24\u001b[0m \u001b[43m    \u001b[49m\u001b[43mtone_squelch\u001b[49m\u001b[43m,\u001b[49m\n\u001b[0;32m     25\u001b[0m \u001b[43m    \u001b[49m\u001b[43mmem_setting\u001b[49m\n\u001b[0;32m     26\u001b[0m \u001b[43m)\u001b[49m\n",
      "File \u001b[1;32mg:\\Documenti\\GitHub\\iu2frl-civ\\src\\iu2frl_civ\\devices\\ic7300.py:1210\u001b[0m, in \u001b[0;36mIC7300.set_memory\u001b[1;34m(self, memory_channel, frequency_hz, operating_mode, rtx_filter, memory_name, data_mode, tone_type, repeater_tone, tone_squelch, memory_setting)\u001b[0m\n\u001b[0;32m   1196\u001b[0m command_data \u001b[38;5;241m=\u001b[39m (\n\u001b[0;32m   1197\u001b[0m     \u001b[38;5;28mbytes\u001b[39m([\u001b[38;5;28mint\u001b[39m(memory_channel_str[\u001b[38;5;241m0\u001b[39m:\u001b[38;5;241m2\u001b[39m])])\n\u001b[0;32m   1198\u001b[0m     \u001b[38;5;241m+\u001b[39m \u001b[38;5;28mbytes\u001b[39m([\u001b[38;5;28mint\u001b[39m(memory_channel_str[\u001b[38;5;241m2\u001b[39m:\u001b[38;5;241m4\u001b[39m])])\n\u001b[1;32m   (...)\u001b[0m\n\u001b[0;32m   1206\u001b[0m     \u001b[38;5;241m+\u001b[39m memory_name_bytes\n\u001b[0;32m   1207\u001b[0m )\n\u001b[0;32m   1209\u001b[0m \u001b[38;5;66;03m# Send the command\u001b[39;00m\n\u001b[1;32m-> 1210\u001b[0m reply \u001b[38;5;241m=\u001b[39m \u001b[38;5;28;43mself\u001b[39;49m\u001b[38;5;241;43m.\u001b[39;49m\u001b[43mutils\u001b[49m\u001b[38;5;241;43m.\u001b[39;49m\u001b[43msend_command\u001b[49m\u001b[43m(\u001b[49m\u001b[38;5;124;43mb\u001b[39;49m\u001b[38;5;124;43m'\u001b[39;49m\u001b[38;5;130;43;01m\\x1a\u001b[39;49;00m\u001b[38;5;130;43;01m\\x00\u001b[39;49;00m\u001b[38;5;124;43m'\u001b[39;49m\u001b[43m,\u001b[49m\u001b[43m \u001b[49m\u001b[43mdata\u001b[49m\u001b[38;5;241;43m=\u001b[39;49m\u001b[43mcommand_data\u001b[49m\u001b[43m)\u001b[49m\n\u001b[0;32m   1211\u001b[0m \u001b[38;5;28;01mreturn\u001b[39;00m \u001b[38;5;28mlen\u001b[39m(reply) \u001b[38;5;241m>\u001b[39m \u001b[38;5;241m0\u001b[39m\n",
      "File \u001b[1;32mg:\\Documenti\\GitHub\\iu2frl-civ\\src\\iu2frl_civ\\utils.py:106\u001b[0m, in \u001b[0;36mUtils.send_command\u001b[1;34m(self, command, data, preamble)\u001b[0m\n\u001b[0;32m    104\u001b[0m \u001b[38;5;28;01melif\u001b[39;00m reply_code \u001b[38;5;241m==\u001b[39m \u001b[38;5;28mbytes\u001b[39m\u001b[38;5;241m.\u001b[39mfromhex(\u001b[38;5;124m\"\u001b[39m\u001b[38;5;124mFA\u001b[39m\u001b[38;5;124m\"\u001b[39m):  \u001b[38;5;66;03m# 0xFA (not good)\u001b[39;00m\n\u001b[0;32m    105\u001b[0m     logger\u001b[38;5;241m.\u001b[39mdebug(\u001b[38;5;124m\"\u001b[39m\u001b[38;5;124mReply status: NG (\u001b[39m\u001b[38;5;132;01m%s\u001b[39;00m\u001b[38;5;124m)\u001b[39m\u001b[38;5;124m\"\u001b[39m, \u001b[38;5;28mself\u001b[39m\u001b[38;5;241m.\u001b[39mbytes_to_string(reply_code))\n\u001b[1;32m--> 106\u001b[0m     \u001b[38;5;28;01mraise\u001b[39;00m CivCommandException(\u001b[38;5;124m\"\u001b[39m\u001b[38;5;124mReply status: NG\u001b[39m\u001b[38;5;124m\"\u001b[39m, reply_code)\n\u001b[0;32m    107\u001b[0m \u001b[38;5;28;01melse\u001b[39;00m:\n\u001b[0;32m    108\u001b[0m     logger\u001b[38;5;241m.\u001b[39mdebug(\u001b[38;5;124m\"\u001b[39m\u001b[38;5;124mReply status: OK (0xFB)\u001b[39m\u001b[38;5;124m\"\u001b[39m)\n",
      "\u001b[1;31mCivCommandException\u001b[0m: Reply status: NG (0xFA)"
     ]
    }
   ],
   "source": [
    "radio.clear_memory(1)\n",
    "\n",
    "# Example values\n",
    "mem_channel = 1\n",
    "freq = 14525000\n",
    "mode = OperatingMode.FM\n",
    "filt = SelectedFilter.FIL1\n",
    "name = \"AAAAAAAAAA\"\n",
    "data_mode = False\n",
    "tone_type = ToneType.TSQL\n",
    "repeater_tone = 88.5\n",
    "tone_squelch = 88.5\n",
    "mem_setting = 0 # use for ☆1\n",
    "\n",
    "radio.set_memory(\n",
    "    mem_channel,\n",
    "    freq,\n",
    "    mode,\n",
    "    filt,\n",
    "    name,\n",
    "    data_mode,\n",
    "    tone_type,\n",
    "    repeater_tone,\n",
    "    tone_squelch,\n",
    "    mem_setting\n",
    ")\n"
   ]
  }
 ],
 "metadata": {
  "kernelspec": {
   "display_name": "venv",
   "language": "python",
   "name": "python3"
  },
  "language_info": {
   "codemirror_mode": {
    "name": "ipython",
    "version": 3
   },
   "file_extension": ".py",
   "mimetype": "text/x-python",
   "name": "python",
   "nbconvert_exporter": "python",
   "pygments_lexer": "ipython3",
   "version": "3.12.8"
  }
 },
 "nbformat": 4,
 "nbformat_minor": 2
}
