{
 "cells": [
  {
   "cell_type": "markdown",
   "metadata": {},
   "source": [
    "# IC-7300 Jupyter Notebook"
   ]
  },
  {
   "cell_type": "markdown",
   "metadata": {},
   "source": [
    "This Jupyter Notebook was originally intended to test new features, it should not be used as general code. Please see the `ic7300.py` file for the actual code."
   ]
  },
  {
   "cell_type": "markdown",
   "metadata": {},
   "source": [
    "## Load system libraries"
   ]
  },
  {
   "cell_type": "code",
   "execution_count": 1,
   "metadata": {},
   "outputs": [],
   "source": [
    "import os\n",
    "import sys\n",
    "import time\n",
    "from pathlib import Path"
   ]
  },
  {
   "cell_type": "markdown",
   "metadata": {},
   "source": [
    "## Load iu2frl-civ from local folder"
   ]
  },
  {
   "cell_type": "code",
   "execution_count": 2,
   "metadata": {},
   "outputs": [
    {
     "name": "stderr",
     "output_type": "stream",
     "text": [
      "WARNING: Skipping iu2frl-civ as it is not installed.\n"
     ]
    }
   ],
   "source": [
    "!pip uninstall iu2frl-civ"
   ]
  },
  {
   "cell_type": "code",
   "execution_count": 3,
   "metadata": {},
   "outputs": [
    {
     "name": "stdout",
     "output_type": "stream",
     "text": [
      "Current path: g:\\Documenti\\GitHub\\iu2frl-civ\\tests\n",
      "Library path: g:\\Documenti\\GitHub\\iu2frl-civ\n",
      "Devices path: g:\\Documenti\\GitHub\\iu2frl-civ\\devices\n",
      "Using iu2frl-civ from local library\n"
     ]
    }
   ],
   "source": [
    "current_path = Path(os.path.abspath(\"\"))\n",
    "print(f\"Current path: {current_path}\")\n",
    "library_path = current_path.parent\n",
    "print(f\"Library path: {library_path}\")\n",
    "sys.path.append(str(library_path))\n",
    "devices_path = os.path.join(library_path, \"devices\")\n",
    "print(f\"Devices path: {devices_path}\")\n",
    "sys.path.append(str(devices_path))\n",
    "from src.iu2frl_civ.device_factory import DeviceFactory\n",
    "from src.iu2frl_civ.exceptions import CivTimeoutException\n",
    "from src.iu2frl_civ.enums import DeviceType, OperatingMode, SelectedFilter, VFOOperation, ScanMode\n",
    "print(\"Using iu2frl-civ from local library\")"
   ]
  },
  {
   "cell_type": "markdown",
   "metadata": {},
   "source": [
    "## Device initialization"
   ]
  },
  {
   "cell_type": "code",
   "execution_count": 4,
   "metadata": {},
   "outputs": [
    {
     "name": "stdout",
     "output_type": "stream",
     "text": [
      "- Connected to the transceiver at COM10 with baudrate 19200bps\n"
     ]
    }
   ],
   "source": [
    "radio = DeviceFactory.get_repository(radio_address=\"0x94\", device_type=DeviceType.IC_7300, baudrate=19200, port=\"COM10\", debug=True, fake=False)\n",
    "print(f\"- Connected to the transceiver at {radio._ser.port} with baudrate {radio._ser.baudrate}bps\")"
   ]
  },
  {
   "cell_type": "markdown",
   "metadata": {},
   "source": [
    "## Turn on the device"
   ]
  },
  {
   "cell_type": "code",
   "execution_count": 5,
   "metadata": {},
   "outputs": [
    {
     "name": "stderr",
     "output_type": "stream",
     "text": [
      "DEBUG:iu2frl-civ:Sending power-on command with 25 wakeup preambles\n",
      "DEBUG:iu2frl-civ:Sending command: 0xFE 0xFE 0xFE 0xFE 0xFE 0xFE 0xFE 0xFE 0xFE 0xFE 0xFE 0xFE 0xFE 0xFE 0xFE 0xFE 0xFE 0xFE 0xFE 0xFE 0xFE 0xFE 0xFE 0xFE 0xFE 0xFE 0xFE 0x94 0xE0 0x18 0x01 0xFD (length: 32)\n",
      "DEBUG:iu2frl-civ:Received message: 0xFE 0xFE 0xE0 0x94 0xFB 0xFD (length: 6)\n",
      "DEBUG:iu2frl-civ:Reply status: OK (0xFB)\n",
      "DEBUG:iu2frl-civ:Sending command: 0xFE 0xFE 0x94 0xE0 0x19 0x00 0xFD (length: 7)\n",
      "DEBUG:iu2frl-civ:Received message: 0xFE 0xFE 0xE0 0x94 0x19 0x00 0x94 0xFD (length: 8)\n",
      "DEBUG:iu2frl-civ:Reply status: OK (0xFB)\n"
     ]
    },
    {
     "name": "stdout",
     "output_type": "stream",
     "text": [
      "- Turning on the transceiver\n",
      "- Waiting for the transceiver to be ready..."
     ]
    }
   ],
   "source": [
    "print(\"- Turning on the transceiver\")\n",
    "radio.power_on()\n",
    "print(\"- Waiting for the transceiver to be ready..\", end=\"\")\n",
    "transceiver_address = b\"\\x00\"\n",
    "while transceiver_address == b\"\\x00\":\n",
    "    print(\".\", end=\"\")\n",
    "    try:\n",
    "        transceiver_address = radio.read_transceiver_id()\n",
    "    except CivTimeoutException:\n",
    "        pass"
   ]
  },
  {
   "cell_type": "markdown",
   "metadata": {},
   "source": [
    "# Playground"
   ]
  },
  {
   "cell_type": "code",
   "execution_count": 6,
   "metadata": {},
   "outputs": [
    {
     "name": "stderr",
     "output_type": "stream",
     "text": [
      "DEBUG:iu2frl-civ:Sending command: 0xFE 0xFE 0x94 0xE0 0x08 0x00 0x01 0xFD (length: 8)\n",
      "DEBUG:iu2frl-civ:Received message: 0xFE 0xFE 0xE0 0x94 0xFB 0xFD (length: 6)\n",
      "DEBUG:iu2frl-civ:Reply status: OK (0xFB)\n"
     ]
    }
   ],
   "source": [
    "radio.set_memory_mode(1)"
   ]
  },
  {
   "cell_type": "code",
   "execution_count": 7,
   "metadata": {},
   "outputs": [],
   "source": [
    "#radio.set_mox(True)\n",
    "#time.sleep(5)\n",
    "#radio.set_mox(False)"
   ]
  },
  {
   "cell_type": "code",
   "execution_count": 8,
   "metadata": {},
   "outputs": [
    {
     "name": "stderr",
     "output_type": "stream",
     "text": [
      "DEBUG:iu2frl-civ:Sending command: 0xFE 0xFE 0x94 0xE0 0x1A 0x05 0x00 0x82 0x01 0xFD (length: 10)\n",
      "DEBUG:iu2frl-civ:Received message: 0xFE 0xFE 0xE0 0x94 0xFB 0xFD (length: 6)\n",
      "DEBUG:iu2frl-civ:Reply status: OK (0xFB)\n",
      "DEBUG:iu2frl-civ:Sending command: 0xFE 0xFE 0x94 0xE0 0x1A 0x05 0x00 0x82 0x00 0xFD (length: 10)\n",
      "DEBUG:iu2frl-civ:Received message: 0xFE 0xFE 0xE0 0x94 0xFB 0xFD (length: 6)\n",
      "DEBUG:iu2frl-civ:Reply status: OK (0xFB)\n"
     ]
    }
   ],
   "source": [
    "radio.set_display_image_type(True)\n",
    "time.sleep(0.5)\n",
    "radio.set_display_image_type(False)"
   ]
  },
  {
   "cell_type": "code",
   "execution_count": 9,
   "metadata": {},
   "outputs": [
    {
     "name": "stderr",
     "output_type": "stream",
     "text": [
      "DEBUG:iu2frl-civ:Sending command: 0xFE 0xFE 0x94 0xE0 0x1A 0x05 0x01 0x07 0x01 0xFD (length: 10)\n",
      "DEBUG:iu2frl-civ:Received message: 0xFE 0xFE 0xE0 0x94 0xFB 0xFD (length: 6)\n",
      "DEBUG:iu2frl-civ:Reply status: OK (0xFB)\n"
     ]
    }
   ],
   "source": [
    "radio.set_scope_waterfall_display(True)"
   ]
  },
  {
   "cell_type": "code",
   "execution_count": 10,
   "metadata": {},
   "outputs": [
    {
     "name": "stderr",
     "output_type": "stream",
     "text": [
      "DEBUG:iu2frl-civ:Sending command: 0xFE 0xFE 0x94 0xE0 0x06 0x03 0x02 0xFD (length: 8)\n",
      "DEBUG:iu2frl-civ:Received message: 0xFE 0xFE 0xE0 0x94 0xFB 0xFD (length: 6)\n",
      "DEBUG:iu2frl-civ:Reply status: OK (0xFB)\n",
      "DEBUG:iu2frl-civ:Sending command: 0xFE 0xFE 0x94 0xE0 0x1A 0x02 0x01 0x43 0x51 0x20 0x43 0x51 0x20 0x43 0x51 0x20 0x44 0x45 0x20 0x49 0x55 0x32 0x46 0x52 0x4C 0x20 0x49 0x55 0x32 0x46 0x52 0x4C 0x20 0x49 0x55 0x32 0x46 0x52 0x4C 0x20 0x4B 0xFD (length: 42)\n",
      "DEBUG:iu2frl-civ:Received message: 0xFE 0xFE 0xE0 0x94 0xFB 0xFD (length: 6)\n",
      "DEBUG:iu2frl-civ:Reply status: OK (0xFB)\n",
      "DEBUG:iu2frl-civ:Sending command: 0xFE 0xFE 0x94 0xE0 0x1A 0x02 0x01 0xFD (length: 8)\n",
      "DEBUG:iu2frl-civ:Received message: 0xFE 0xFE 0xE0 0x94 0x1A 0x02 0x01 0x43 0x51 0x20 0x43 0x51 0x20 0x43 0x51 0x20 0x44 0x45 0x20 0x49 0x55 0x32 0x46 0x52 0x4C 0x20 0x49 0x55 0x32 0x46 0x52 0x4C 0x20 0x49 0x55 0x32 0x46 0x52 0x4C 0x20 0x4B 0x20 0x20 0x20 0x20 0x20 0x20 0x20 0x20 0x20 0x20 0x20 0x20 0x20 0x20 0x20 0x20 0x20 0x20 0x20 0x20 0x20 0x20 0x20 0x20 0x20 0x20 0x20 0x20 0x20 0x20 0x20 0x20 0x20 0x20 0x20 0x20 0xFD (length: 78)\n",
      "DEBUG:iu2frl-civ:Reply status: OK (0xFB)\n"
     ]
    },
    {
     "data": {
      "text/plain": [
       "'CQ CQ CQ DE IU2FRL IU2FRL IU2FRL K                                   '"
      ]
     },
     "execution_count": 10,
     "metadata": {},
     "output_type": "execute_result"
    }
   ],
   "source": [
    "radio.set_operating_mode(OperatingMode.CW, SelectedFilter.FIL2)\n",
    "radio.set_memory_keyer_message(1, \"CQ CQ CQ DE IU2FRL IU2FRL IU2FRL K\")\n",
    "radio.read_memory_keyer_message(1)"
   ]
  }
 ],
 "metadata": {
  "kernelspec": {
   "display_name": "venv",
   "language": "python",
   "name": "python3"
  },
  "language_info": {
   "codemirror_mode": {
    "name": "ipython",
    "version": 3
   },
   "file_extension": ".py",
   "mimetype": "text/x-python",
   "name": "python",
   "nbconvert_exporter": "python",
   "pygments_lexer": "ipython3",
   "version": "3.12.8"
  }
 },
 "nbformat": 4,
 "nbformat_minor": 2
}
